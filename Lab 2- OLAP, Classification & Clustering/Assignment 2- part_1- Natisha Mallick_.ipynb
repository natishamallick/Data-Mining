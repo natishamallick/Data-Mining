{
 "cells": [
  {
   "cell_type": "markdown",
   "metadata": {},
   "source": [
    "### Assignment 2 - Natisha Mallick- EC22373"
   ]
  },
  {
   "cell_type": "markdown",
   "metadata": {},
   "source": [
    "### Part 1 "
   ]
  },
  {
   "cell_type": "markdown",
   "metadata": {},
   "source": [
    "#### Solution 3. "
   ]
  },
  {
   "cell_type": "code",
   "execution_count": 1,
   "metadata": {
    "colab": {
     "base_uri": "https://localhost:8080/",
     "height": 1000
    },
    "id": "8edLBYcL6AYH",
    "outputId": "1d938dff-51df-463f-9e51-27d0ad9e7e3e",
    "scrolled": true
   },
   "outputs": [
    {
     "name": "stdout",
     "output_type": "stream",
     "text": [
      "Requirement already satisfied: cubes in c:\\users\\natisha\\anaconda3\\lib\\site-packages (1.1)\n",
      "Requirement already satisfied: jsonschema in c:\\users\\natisha\\anaconda3\\lib\\site-packages (from cubes) (4.4.0)\n",
      "Requirement already satisfied: python-dateutil in c:\\users\\natisha\\anaconda3\\lib\\site-packages (from cubes) (2.8.2)\n",
      "Requirement already satisfied: expressions>=0.2.3 in c:\\users\\natisha\\anaconda3\\lib\\site-packages (from cubes) (0.2.3)\n",
      "Requirement already satisfied: grako>=3.9.3 in c:\\users\\natisha\\anaconda3\\lib\\site-packages (from expressions>=0.2.3->cubes) (3.99.9)\n",
      "Requirement already satisfied: attrs>=17.4.0 in c:\\users\\natisha\\anaconda3\\lib\\site-packages (from jsonschema->cubes) (21.4.0)\n",
      "Requirement already satisfied: pyrsistent!=0.17.0,!=0.17.1,!=0.17.2,>=0.14.0 in c:\\users\\natisha\\anaconda3\\lib\\site-packages (from jsonschema->cubes) (0.18.0)\n",
      "Requirement already satisfied: six>=1.5 in c:\\users\\natisha\\anaconda3\\lib\\site-packages (from python-dateutil->cubes) (1.16.0)\n",
      "Using pip 21.2.4 from C:\\Users\\Natisha\\anaconda3\\lib\\site-packages\\pip (python 3.9)\n",
      "Collecting sqlalchemy==1.3.9\n",
      "  Using cached SQLAlchemy-1.3.9-cp39-cp39-win_amd64.whl\n",
      "Installing collected packages: sqlalchemy\n",
      "Successfully installed sqlalchemy-1.4.32\n"
     ]
    }
   ],
   "source": [
    "!pip install cubes\n",
    "!pip install -Iv sqlalchemy==1.3.9\n",
    "\n",
    "from sqlalchemy import create_engine\n",
    "from cubes.tutorial.sql import create_table_from_csv"
   ]
  },
  {
   "cell_type": "code",
   "execution_count": 2,
   "metadata": {},
   "outputs": [],
   "source": [
    "engine = create_engine('sqlite:///data.sqlite')\n",
    "create_table_from_csv(engine,\n",
    "                      \"IBRD_Balance_Sheet__FY2010.csv\",\n",
    "                      table_name=\"ibrd_balance\",\n",
    "                      fields=[\n",
    "                          (\"category\", \"string\"),\n",
    "                          (\"category_label\", \"string\"),\n",
    "                          (\"subcategory\", \"string\"),\n",
    "                          (\"subcategory_label\", \"string\"),\n",
    "                          (\"line_item\", \"string\"),\n",
    "                          (\"year\", \"integer\"),\n",
    "                          (\"amount\", \"integer\")],\n",
    "                      create_id=True\n",
    "                     )"
   ]
  },
  {
   "cell_type": "code",
   "execution_count": 3,
   "metadata": {
    "id": "qv4Ga0Ml6tI-"
   },
   "outputs": [],
   "source": [
    "from cubes import Workspace\n",
    "\n",
    "workspace = Workspace()\n",
    "workspace.register_default_store(\"sql\", url=\"sqlite:///data.sqlite\")"
   ]
  },
  {
   "cell_type": "code",
   "execution_count": 4,
   "metadata": {
    "id": "wNPxI4XN6xTz"
   },
   "outputs": [],
   "source": [
    "workspace.import_model(\"tutorial_model.json\")"
   ]
  },
  {
   "cell_type": "code",
   "execution_count": 5,
   "metadata": {
    "id": "56d5InGS7R30"
   },
   "outputs": [],
   "source": [
    "cube = workspace.cube(\"ibrd_balance\")\n",
    "browser = workspace.browser(cube)"
   ]
  },
  {
   "cell_type": "raw",
   "metadata": {},
   "source": [
    "#### Json File to min - max \n",
    "\n",
    "{\n",
    "    \"dimensions\": [\n",
    "        {\n",
    "         \"name\":\"item\",\n",
    "         \"levels\": [\n",
    "                {\n",
    "                    \"name\":\"category\",\n",
    "                    \"label\":\"Category\",\n",
    "                    \"attributes\": [\"category\", \"category_label\"]\n",
    "                },\n",
    "                {\n",
    "                    \"name\":\"subcategory\",\n",
    "                    \"label\":\"Sub-category\",\n",
    "                    \"attributes\": [\"subcategory\", \"subcategory_label\"]\n",
    "                },\n",
    "                {\n",
    "                    \"name\":\"line_item\",\n",
    "                    \"label\":\"Line Item\",\n",
    "                    \"attributes\": [\"line_item\"]\n",
    "                }\n",
    "            ]\n",
    "        },\n",
    "        {\"name\":\"year\", \"role\": \"time\"}\n",
    "    ],\n",
    "    \"cubes\": [\n",
    "        {\n",
    "            \"name\": \"ibrd_balance\",\n",
    "            \"dimensions\": [\"item\", \"year\"],\n",
    "            \"measures\": [{\"name\":\"amount\", \"label\":\"Amount\"}],\n",
    "            \"aggregates\": [\n",
    "                    {\n",
    "                        \"name\": \"amount_sum\",\n",
    "                        \"function\": \"sum\",\n",
    "                        \"measure\": \"amount\"\n",
    "                    },\n",
    "                    {\n",
    "                        \"name\": \"amount_min\",\n",
    "                        \"function\": \"min\",\n",
    "                        \"measure\": \"amount\"\n",
    "                    },\n",
    "                    {\n",
    "                        \"name\": \"amount_max\",\n",
    "                        \"function\": \"max\",\n",
    "                        \"measure\": \"amount\"\n",
    "                    },\n",
    "                    {\n",
    "                        \"name\": \"record_count\",\n",
    "                        \"function\": \"count\"\n",
    "                    }\n",
    "                ],\n",
    "            \"mappings\": {\n",
    "                          \"item.line_item\": \"line_item\",\n",
    "                          \"item.subcategory\": \"subcategory\",\n",
    "                          \"item.subcategory_label\": \"subcategory_label\",\n",
    "                          \"item.category\": \"category\",\n",
    "                          \"item.category_label\": \"category_label\"\n",
    "                         },\n",
    "            \"info\": {\n",
    "                \"min_date\": \"2010-01-01\",\n",
    "                \"max_date\": \"2010-12-31\"\n",
    "            }\n",
    "        }\n",
    "    ]\n",
    "}\n",
    "\n"
   ]
  },
  {
   "cell_type": "code",
   "execution_count": 6,
   "metadata": {
    "colab": {
     "base_uri": "https://localhost:8080/"
    },
    "id": "QXFHracV7U3u",
    "outputId": "1b5d1827-aaa6-4e40-f556-546c0e67930d"
   },
   "outputs": [
    {
     "name": "stdout",
     "output_type": "stream",
     "text": [
      "-3043\n",
      "128577\n"
     ]
    }
   ],
   "source": [
    "result = browser.aggregate()\n",
    "print(result.summary[\"amount_min\"])\n",
    "print(result.summary[\"amount_max\"])"
   ]
  },
  {
   "cell_type": "code",
   "execution_count": 7,
   "metadata": {
    "colab": {
     "base_uri": "https://localhost:8080/"
    },
    "id": "thEPgGuV8A44",
    "outputId": "b27b0b48-e538-49da-cb90-82f264111678"
   },
   "outputs": [
    {
     "name": "stdout",
     "output_type": "stream",
     "text": [
      "{'year': 2009, 'amount_sum': 550840, 'amount_min': -1683, 'amount_max': 110040, 'record_count': 31}\n",
      "{'year': 2010, 'amount_sum': 566020, 'amount_min': -3043, 'amount_max': 128577, 'record_count': 31}\n"
     ]
    }
   ],
   "source": [
    "result = browser.aggregate(drilldown=[\"year\"])\n",
    "for record in result:\n",
    "    print(record)"
   ]
  },
  {
   "cell_type": "markdown",
   "metadata": {
    "id": "nlpZTu0U8gLa"
   },
   "source": [
    "#### Solution 4."
   ]
  },
  {
   "cell_type": "code",
   "execution_count": 8,
   "metadata": {
    "id": "dWq-tiXd8iij"
   },
   "outputs": [],
   "source": [
    "engine2 = create_engine('sqlite:///data2.sqlite')\n",
    "create_table_from_csv(engine2,\n",
    "                      \"country-income.csv\",\n",
    "                      table_name=\"Income\",\n",
    "                      fields=[\n",
    "                          (\"Region\", \"string\"),\n",
    "                          (\"age\", \"integer\"),\n",
    "                          (\"Income\", \"integer\"),\n",
    "                          (\"Online_shopper\", \"string\"),],\n",
    "                      create_id=True\n",
    "                     )"
   ]
  },
  {
   "cell_type": "code",
   "execution_count": 9,
   "metadata": {
    "id": "Q5GH49SaBtCG"
   },
   "outputs": [],
   "source": [
    "workspace_income = Workspace()\n",
    "workspace_income.register_default_store(\"sql\", url=\"sqlite:///data2.sqlite\")"
   ]
  },
  {
   "cell_type": "raw",
   "metadata": {},
   "source": [
    "# JSON for country-income\n",
    "\n",
    "{\n",
    "    \"dimensions\": [\n",
    "       {\n",
    "         \"name\": \"region\",\n",
    "         \"label\":\"Region_label\",\n",
    "         \"attributes\": [\"Region\"]\n",
    "       },\n",
    "       {\n",
    "         \"name\": \"age\",\n",
    "         \"label\":\"age_label\",\n",
    "         \"attributes\": [\"age\"]\n",
    "       },\n",
    "       {\n",
    "         \"name\": \"online_shopper\",\n",
    "         \"label\":\"online_shopper_label\",\n",
    "         \"attributes\": [\"Online_shopper\"]\n",
    "       }\n",
    "    ],\n",
    "    \"cubes\": [\n",
    "        {\n",
    "            \"name\": \"Income\",\n",
    "            \"dimensions\": [\"region\",\"age\",\"online_shopper\"],\n",
    "            \"measures\": [{\"name\":\"Income\", \"label\":\"Income\"}],\n",
    "            \"aggregates\": [\n",
    "                    {\n",
    "                        \"name\": \"income_total\",\n",
    "                        \"function\": \"sum\",\n",
    "                        \"measure\": \"Income\"\n",
    "                    },\n",
    "                    {\n",
    "                        \"name\": \"income_min\",\n",
    "                        \"function\": \"min\",\n",
    "                        \"measure\": \"Income\"\n",
    "                    },\n",
    "                    {\n",
    "                        \"name\": \"income_max\",\n",
    "                        \"function\": \"max\",\n",
    "                        \"measure\": \"Income\"\n",
    "                    },\n",
    "                    {\n",
    "                        \"name\": \"income_avg\",\n",
    "                        \"function\": \"avg\",\n",
    "                        \"measure\": \"Income\"\n",
    "                    }\n",
    "                ]\n",
    "        }\n",
    "    ]\n",
    "}\n"
   ]
  },
  {
   "cell_type": "code",
   "execution_count": 10,
   "metadata": {
    "colab": {
     "base_uri": "https://localhost:8080/",
     "height": 449
    },
    "id": "Sw9mdVu5B0SG",
    "outputId": "15ed0568-2f03-4e3a-e5d9-deacff744a09"
   },
   "outputs": [
    {
     "name": "stdout",
     "output_type": "stream",
     "text": [
      "{'income_total': 688800.0, 'income_min': 57600, 'income_max': '', 'income_avg': 68880.0}\n",
      "{'region': 'Brazil', 'income_total': 193200, 'income_min': 57600, 'income_max': 73200, 'income_avg': 64400.0}\n",
      "{'region': 'India', 'income_total': 331200, 'income_min': 69600, 'income_max': 94800, 'income_avg': 82800.0}\n",
      "{'region': 'USA', 'income_total': 164400.0, 'income_min': 64800, 'income_max': '', 'income_avg': 54800.0}\n"
     ]
    }
   ],
   "source": [
    "workspace_income.import_model(\"country-income-model.json\")\n",
    "cube = workspace_income.cube(\"Income\")\n",
    "browser = workspace_income.browser(cube)\n",
    "result = browser.aggregate()\n",
    "\n",
    "print(result.summary)\n",
    "\n",
    "result = browser.aggregate(drilldown=[\"region\"])\n",
    "for record in result:\n",
    "    print(record)"
   ]
  }
 ],
 "metadata": {
  "colab": {
   "collapsed_sections": [],
   "provenance": []
  },
  "kernelspec": {
   "display_name": "Python 3 (ipykernel)",
   "language": "python",
   "name": "python3"
  },
  "language_info": {
   "codemirror_mode": {
    "name": "ipython",
    "version": 3
   },
   "file_extension": ".py",
   "mimetype": "text/x-python",
   "name": "python",
   "nbconvert_exporter": "python",
   "pygments_lexer": "ipython3",
   "version": "3.9.15"
  }
 },
 "nbformat": 4,
 "nbformat_minor": 1
}
