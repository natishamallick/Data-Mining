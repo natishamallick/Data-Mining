{
 "cells": [
  {
   "cell_type": "markdown",
   "id": "7050a2fc",
   "metadata": {},
   "source": [
    "### Part 2 "
   ]
  },
  {
   "cell_type": "markdown",
   "id": "c2a8e52f",
   "metadata": {},
   "source": [
    "#### Solution 6. "
   ]
  },
  {
   "cell_type": "code",
   "execution_count": 1,
   "id": "02db7220",
   "metadata": {},
   "outputs": [],
   "source": [
    "%config InlineBackend.figure_formats = set(['retina'])\n",
    "\n",
    "import gzip\n",
    "\n",
    "import pickle\n",
    "\n",
    "import numpy as np\n",
    "import pandas as pd\n",
    "import matplotlib.pyplot as plt\n",
    "import seaborn as sns\n",
    "sns.set_style(\n",
    "    'darkgrid')\n",
    "\n",
    "# Selecting the training data from the original dataset\n",
    "mnist_data = gzip.open('data/mnist.pkl.gz', 'rb')\n",
    "X, y = pickle.load(mnist_data, encoding='latin1')[0]\n",
    "mnist_data.close()\n",
    "\n",
    "# Subsampling\n",
    "sample_size = 1000\n",
    "X, y = X[:sample_size], y[:sample_size]\n",
    "\n"
   ]
  },
  {
   "cell_type": "code",
   "execution_count": 2,
   "id": "d9c54a23",
   "metadata": {},
   "outputs": [
    {
     "name": "stdout",
     "output_type": "stream",
     "text": [
      "Training dataset accuracy: 0.985.\n",
      "Test dataset accuracy: 0.91.\n"
     ]
    }
   ],
   "source": [
    "from sklearn.model_selection import train_test_split\n",
    "from sklearn import svm\n",
    "X_train, X_test, y_train, y_test = train_test_split(X, y, test_size=0.2, random_state=0)\n",
    "\n",
    "classifier = svm.SVC()\n",
    "classifier.fit(X_train, y_train)\n",
    "print('Training dataset accuracy: {0}.'.format(classifier.score(X_train, y_train)))\n",
    "print('Test dataset accuracy: {0}.'.format(classifier.score(X_test, y_test)))"
   ]
  },
  {
   "cell_type": "code",
   "execution_count": 3,
   "id": "8e2a35d7",
   "metadata": {},
   "outputs": [
    {
     "name": "stdout",
     "output_type": "stream",
     "text": [
      "Test dataset accuracy: 0.885.\n"
     ]
    }
   ],
   "source": [
    "from sklearn.preprocessing import StandardScaler\n",
    "from sklearn.pipeline import make_pipeline\n",
    "\n",
    "pipeline = make_pipeline(StandardScaler(), svm.SVC())\n",
    "\n",
    "pipeline.fit(X_train, y_train)\n",
    "print('Test dataset accuracy: {0}.'.format(pipeline.score(X_test, y_test)))"
   ]
  },
  {
   "cell_type": "markdown",
   "id": "0ce164b0",
   "metadata": {},
   "source": [
    "#### Solution 7. "
   ]
  },
  {
   "cell_type": "code",
   "execution_count": 4,
   "id": "220a73a0",
   "metadata": {},
   "outputs": [
    {
     "name": "stdout",
     "output_type": "stream",
     "text": [
      "Best hyperparameter setting: RandomForestClassifier(max_features=0.1, n_estimators=200, random_state=0).\n",
      "Average accuracy across folds (k = 5): 0.8800000000000001.\n",
      "Test dataset accuracy (k = 5): 0.89.\n"
     ]
    }
   ],
   "source": [
    "from sklearn.ensemble import RandomForestClassifier\n",
    "from sklearn.model_selection import cross_validate\n",
    "from sklearn.model_selection import GridSearchCV\n",
    "\n",
    "RandomForest = RandomForestClassifier(n_estimators=100, random_state=0)\n",
    "parameters = {'n_estimators': [50,100,200],'max_features':[0.1,0.25]}\n",
    "\n",
    "# The data was already implicitly shuffled by train_test_split\n",
    "RandomForest_new = cross_validate(RandomForest, X_train, y_train, cv=5)\n",
    "\n",
    "RandomForest_CV = GridSearchCV(RandomForest, parameters, cv=5)\n",
    "RandomForest_CV.fit(X_train, y_train)\n",
    "\n",
    "print('Best hyperparameter setting: {0}.'.format(RandomForest_CV.best_estimator_))\n",
    "print('Average accuracy across folds (k = 5): {0}.'.format(RandomForest_new['test_score'].mean()))\n",
    "print('Test dataset accuracy (k = 5): {0}.'.format(RandomForest_CV.score(X_test, y_test)))"
   ]
  }
 ],
 "metadata": {
  "kernelspec": {
   "display_name": "Python 3 (ipykernel)",
   "language": "python",
   "name": "python3"
  },
  "language_info": {
   "codemirror_mode": {
    "name": "ipython",
    "version": 3
   },
   "file_extension": ".py",
   "mimetype": "text/x-python",
   "name": "python",
   "nbconvert_exporter": "python",
   "pygments_lexer": "ipython3",
   "version": "3.9.15"
  }
 },
 "nbformat": 4,
 "nbformat_minor": 5
}
