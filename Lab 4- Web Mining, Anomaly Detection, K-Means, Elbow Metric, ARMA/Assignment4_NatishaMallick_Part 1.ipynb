{
 "cells": [
  {
   "cell_type": "markdown",
   "metadata": {},
   "source": [
    "### Assignment 4- Part 1"
   ]
  },
  {
   "cell_type": "markdown",
   "metadata": {
    "id": "tz3BPndDy4xD"
   },
   "source": [
    "#### Solution 1.B."
   ]
  },
  {
   "cell_type": "code",
   "execution_count": 1,
   "metadata": {
    "id": "HjNbYetnwyUn"
   },
   "outputs": [],
   "source": [
    "import pandas as pd\n",
    "import numpy as np\n",
    "import matplotlib.pyplot as plt\n",
    "import seaborn as sns\n",
    "%matplotlib inline"
   ]
  },
  {
   "cell_type": "code",
   "execution_count": 2,
   "metadata": {
    "id": "dml0FWfUw5mU"
   },
   "outputs": [],
   "source": [
    "from urllib.request import urlopen\n",
    "from bs4 import BeautifulSoup"
   ]
  },
  {
   "cell_type": "code",
   "execution_count": 3,
   "metadata": {
    "id": "lROQQiXww-p7"
   },
   "outputs": [],
   "source": [
    "url = \" http://eecs.qmul.ac.uk/~emmanouilb/income_table.html\"\n",
    "html = urlopen(url)"
   ]
  },
  {
   "cell_type": "code",
   "execution_count": 4,
   "metadata": {
    "colab": {
     "base_uri": "https://localhost:8080/"
    },
    "id": "HfFiUL_NxA5B",
    "outputId": "32ce0437-4131-4940-f14a-300bd2cf9a8d"
   },
   "outputs": [
    {
     "name": "stdout",
     "output_type": "stream",
     "text": [
      "<class 'bs4.BeautifulSoup'>\n"
     ]
    }
   ],
   "source": [
    "soup = BeautifulSoup(html, 'lxml')\n",
    "print(type(soup))"
   ]
  },
  {
   "cell_type": "code",
   "execution_count": 5,
   "metadata": {
    "colab": {
     "base_uri": "https://localhost:8080/"
    },
    "id": "QHKz3m92xEiC",
    "outputId": "06b41684-3382-4778-fab3-61534ae751ca"
   },
   "outputs": [
    {
     "name": "stdout",
     "output_type": "stream",
     "text": [
      "\n",
      "\n",
      "ECS766P Data Mining - Week 10\n",
      "The below table contains income data per country; the same table was used for the Week 3 lab.\n",
      "\n",
      "Region\n",
      "Age\n",
      "Income\n",
      "Online Shopper\n",
      "\n",
      "\n",
      "India\n",
      "49\n",
      "86400\n",
      "No\n",
      "\n",
      "\n",
      "Brazil\n",
      "32\n",
      "57600\n",
      "Yes\n",
      "\n",
      "\n",
      "USA\n",
      "35\n",
      "64800\n",
      "No\n",
      "\n",
      "\n",
      "Brazil\n",
      "43\n",
      "73200\n",
      "No\n",
      "\n",
      "\n",
      "USA\n",
      "45\n",
      "\n",
      "Yes\n",
      "\n",
      "\n",
      "India\n",
      "40\n",
      "69600\n",
      "Yes\n",
      "\n",
      "\n",
      "Brazil\n",
      "\n",
      "62400\n",
      "No\n",
      "\n",
      "\n",
      "India\n",
      "53\n",
      "94800\n",
      "Yes\n",
      "\n",
      "\n",
      "USA\n",
      "55\n",
      "99600\n",
      "No\n",
      "\n",
      "\n",
      "India\n",
      "42\n",
      "80400\n",
      "Yes\n",
      "\n",
      "\n",
      "\n",
      "\n",
      "\n"
     ]
    }
   ],
   "source": [
    "text = soup.get_text()\n",
    "print(soup.text)"
   ]
  },
  {
   "cell_type": "code",
   "execution_count": 6,
   "metadata": {
    "colab": {
     "base_uri": "https://localhost:8080/"
    },
    "id": "StLeRIlUxIuC",
    "outputId": "6165b377-d74b-4d3b-8a71-ca3b2dd709c3"
   },
   "outputs": [
    {
     "name": "stdout",
     "output_type": "stream",
     "text": [
      "[<tr><th title=\"Field #1\">Region</th>\n",
      "<th title=\"Field #2\">Age</th>\n",
      "<th title=\"Field #3\">Income</th>\n",
      "<th title=\"Field #4\">Online Shopper</th>\n",
      "</tr>, <tr>\n",
      "<td>India</td>\n",
      "<td align=\"right\">49</td>\n",
      "<td align=\"right\">86400</td>\n",
      "<td>No</td>\n",
      "</tr>, <tr>\n",
      "<td>Brazil</td>\n",
      "<td align=\"right\">32</td>\n",
      "<td align=\"right\">57600</td>\n",
      "<td>Yes</td>\n",
      "</tr>, <tr>\n",
      "<td>USA</td>\n",
      "<td align=\"right\">35</td>\n",
      "<td align=\"right\">64800</td>\n",
      "<td>No</td>\n",
      "</tr>, <tr>\n",
      "<td>Brazil</td>\n",
      "<td align=\"right\">43</td>\n",
      "<td align=\"right\">73200</td>\n",
      "<td>No</td>\n",
      "</tr>, <tr>\n",
      "<td>USA</td>\n",
      "<td align=\"right\">45</td>\n",
      "<td align=\"right\"></td>\n",
      "<td>Yes</td>\n",
      "</tr>, <tr>\n",
      "<td>India</td>\n",
      "<td align=\"right\">40</td>\n",
      "<td align=\"right\">69600</td>\n",
      "<td>Yes</td>\n",
      "</tr>, <tr>\n",
      "<td>Brazil</td>\n",
      "<td align=\"right\"></td>\n",
      "<td align=\"right\">62400</td>\n",
      "<td>No</td>\n",
      "</tr>, <tr>\n",
      "<td>India</td>\n",
      "<td align=\"right\">53</td>\n",
      "<td align=\"right\">94800</td>\n",
      "<td>Yes</td>\n",
      "</tr>, <tr>\n",
      "<td>USA</td>\n",
      "<td align=\"right\">55</td>\n",
      "<td align=\"right\">99600</td>\n",
      "<td>No</td>\n",
      "</tr>]\n"
     ]
    }
   ],
   "source": [
    "rows = soup.find_all('tr')  # the 'tr' tag in html denotes a table row\n",
    "print(rows[:10])"
   ]
  },
  {
   "cell_type": "code",
   "execution_count": 7,
   "metadata": {
    "colab": {
     "base_uri": "https://localhost:8080/"
    },
    "id": "VJyCetX2xLMw",
    "outputId": "856a163c-8bc3-4aee-d0e1-608939170236"
   },
   "outputs": [
    {
     "name": "stdout",
     "output_type": "stream",
     "text": [
      "[]\n",
      "[<td>India</td>, <td align=\"right\">49</td>, <td align=\"right\">86400</td>, <td>No</td>]\n",
      "[<td>Brazil</td>, <td align=\"right\">32</td>, <td align=\"right\">57600</td>, <td>Yes</td>]\n",
      "[<td>USA</td>, <td align=\"right\">35</td>, <td align=\"right\">64800</td>, <td>No</td>]\n",
      "[<td>Brazil</td>, <td align=\"right\">43</td>, <td align=\"right\">73200</td>, <td>No</td>]\n",
      "[<td>USA</td>, <td align=\"right\">45</td>, <td align=\"right\"></td>, <td>Yes</td>]\n",
      "[<td>India</td>, <td align=\"right\">40</td>, <td align=\"right\">69600</td>, <td>Yes</td>]\n",
      "[<td>Brazil</td>, <td align=\"right\"></td>, <td align=\"right\">62400</td>, <td>No</td>]\n",
      "[<td>India</td>, <td align=\"right\">53</td>, <td align=\"right\">94800</td>, <td>Yes</td>]\n",
      "[<td>USA</td>, <td align=\"right\">55</td>, <td align=\"right\">99600</td>, <td>No</td>]\n",
      "[<td>India</td>, <td align=\"right\">42</td>, <td align=\"right\">80400</td>, <td>Yes</td>]\n"
     ]
    },
    {
     "data": {
      "text/plain": [
       "bs4.element.ResultSet"
      ]
     },
     "execution_count": 7,
     "metadata": {},
     "output_type": "execute_result"
    }
   ],
   "source": [
    "for row in rows:\n",
    "    row_td = row.find_all('td')  # the 'td' tag in html code denotes a table cell\n",
    "    print(row_td)\n",
    "type(row_td)"
   ]
  },
  {
   "cell_type": "code",
   "execution_count": 8,
   "metadata": {
    "colab": {
     "base_uri": "https://localhost:8080/"
    },
    "id": "8gxP62B6xSm4",
    "outputId": "262fa115-96e3-4f02-bfe6-dbcd79ce531a"
   },
   "outputs": [
    {
     "name": "stdout",
     "output_type": "stream",
     "text": [
      "['[Region, Age, Income, Online Shopper]']\n"
     ]
    }
   ],
   "source": [
    "# Create an empty list where the table header will be stored\n",
    "header_list = []\n",
    "\n",
    "# Find the 'th' html tags which denote table header\n",
    "col_labels = soup.find_all('th')\n",
    "col_str = str(col_labels)\n",
    "cleantext_header = BeautifulSoup(col_str, \"lxml\").get_text()  # extract the text without HTML tags\n",
    "header_list.append(cleantext_header) # Add the clean table header to the list\n",
    "\n",
    "print(header_list)"
   ]
  },
  {
   "cell_type": "code",
   "execution_count": 9,
   "metadata": {
    "colab": {
     "base_uri": "https://localhost:8080/"
    },
    "id": "yb9SIe9IxVPL",
    "outputId": "6bb89aeb-3ea4-4a3d-b5e7-0c165e415fa7"
   },
   "outputs": [
    {
     "name": "stdout",
     "output_type": "stream",
     "text": [
      "['[]', '[India, 49, 86400, No]', '[Brazil, 32, 57600, Yes]', '[USA, 35, 64800, No]', '[Brazil, 43, 73200, No]', '[USA, 45, , Yes]', '[India, 40, 69600, Yes]', '[Brazil, , 62400, No]', '[India, 53, 94800, Yes]', '[USA, 55, 99600, No]', '[India, 42, 80400, Yes]']\n"
     ]
    }
   ],
   "source": [
    "# Create an empty list where the table will be stored\n",
    "table_list = []\n",
    "\n",
    "# For every row in the table, find each cell element and add it to the list\n",
    "for row in rows:\n",
    "    row_td = row.find_all('td')\n",
    "    row_cells = str(row_td)\n",
    "    row_cleantext = BeautifulSoup(row_cells, \"lxml\").get_text()  # extract the text without HTML tags\n",
    "    table_list.append(row_cleantext)  # Add the clean table row to the list\n",
    "    \n",
    "print(table_list)"
   ]
  },
  {
   "cell_type": "code",
   "execution_count": 10,
   "metadata": {
    "colab": {
     "base_uri": "https://localhost:8080/",
     "height": 80
    },
    "id": "puyJyB1NxYH8",
    "outputId": "b7967b6c-b356-4812-d101-a21d30491600"
   },
   "outputs": [
    {
     "data": {
      "text/html": [
       "<div>\n",
       "<style scoped>\n",
       "    .dataframe tbody tr th:only-of-type {\n",
       "        vertical-align: middle;\n",
       "    }\n",
       "\n",
       "    .dataframe tbody tr th {\n",
       "        vertical-align: top;\n",
       "    }\n",
       "\n",
       "    .dataframe thead th {\n",
       "        text-align: right;\n",
       "    }\n",
       "</style>\n",
       "<table border=\"1\" class=\"dataframe\">\n",
       "  <thead>\n",
       "    <tr style=\"text-align: right;\">\n",
       "      <th></th>\n",
       "      <th>0</th>\n",
       "    </tr>\n",
       "  </thead>\n",
       "  <tbody>\n",
       "    <tr>\n",
       "      <th>0</th>\n",
       "      <td>[Region, Age, Income, Online Shopper]</td>\n",
       "    </tr>\n",
       "  </tbody>\n",
       "</table>\n",
       "</div>"
      ],
      "text/plain": [
       "                                       0\n",
       "0  [Region, Age, Income, Online Shopper]"
      ]
     },
     "execution_count": 10,
     "metadata": {},
     "output_type": "execute_result"
    }
   ],
   "source": [
    "df_header = pd.DataFrame(header_list)\n",
    "df_header.head()"
   ]
  },
  {
   "cell_type": "code",
   "execution_count": 11,
   "metadata": {
    "colab": {
     "base_uri": "https://localhost:8080/",
     "height": 80
    },
    "id": "T80njJ-HxaSe",
    "outputId": "54b913c9-4254-462e-f09b-426e710ae57a"
   },
   "outputs": [
    {
     "data": {
      "text/html": [
       "<div>\n",
       "<style scoped>\n",
       "    .dataframe tbody tr th:only-of-type {\n",
       "        vertical-align: middle;\n",
       "    }\n",
       "\n",
       "    .dataframe tbody tr th {\n",
       "        vertical-align: top;\n",
       "    }\n",
       "\n",
       "    .dataframe thead th {\n",
       "        text-align: right;\n",
       "    }\n",
       "</style>\n",
       "<table border=\"1\" class=\"dataframe\">\n",
       "  <thead>\n",
       "    <tr style=\"text-align: right;\">\n",
       "      <th></th>\n",
       "      <th>0</th>\n",
       "      <th>1</th>\n",
       "      <th>2</th>\n",
       "      <th>3</th>\n",
       "    </tr>\n",
       "  </thead>\n",
       "  <tbody>\n",
       "    <tr>\n",
       "      <th>0</th>\n",
       "      <td>[Region</td>\n",
       "      <td>Age</td>\n",
       "      <td>Income</td>\n",
       "      <td>Online Shopper]</td>\n",
       "    </tr>\n",
       "  </tbody>\n",
       "</table>\n",
       "</div>"
      ],
      "text/plain": [
       "         0     1        2                 3\n",
       "0  [Region   Age   Income   Online Shopper]"
      ]
     },
     "execution_count": 11,
     "metadata": {},
     "output_type": "execute_result"
    }
   ],
   "source": [
    "df_header2 = df_header[0].str.split(',', expand=True)\n",
    "df_header2.head()"
   ]
  },
  {
   "cell_type": "code",
   "execution_count": 12,
   "metadata": {
    "colab": {
     "base_uri": "https://localhost:8080/",
     "height": 359
    },
    "id": "2QHSxh86xcoz",
    "outputId": "7b09144a-919b-4ac7-fdde-65683f9eeeee"
   },
   "outputs": [
    {
     "data": {
      "text/html": [
       "<div>\n",
       "<style scoped>\n",
       "    .dataframe tbody tr th:only-of-type {\n",
       "        vertical-align: middle;\n",
       "    }\n",
       "\n",
       "    .dataframe tbody tr th {\n",
       "        vertical-align: top;\n",
       "    }\n",
       "\n",
       "    .dataframe thead th {\n",
       "        text-align: right;\n",
       "    }\n",
       "</style>\n",
       "<table border=\"1\" class=\"dataframe\">\n",
       "  <thead>\n",
       "    <tr style=\"text-align: right;\">\n",
       "      <th></th>\n",
       "      <th>0</th>\n",
       "      <th>1</th>\n",
       "      <th>2</th>\n",
       "      <th>3</th>\n",
       "    </tr>\n",
       "  </thead>\n",
       "  <tbody>\n",
       "    <tr>\n",
       "      <th>0</th>\n",
       "      <td>[]</td>\n",
       "      <td>None</td>\n",
       "      <td>None</td>\n",
       "      <td>None</td>\n",
       "    </tr>\n",
       "    <tr>\n",
       "      <th>1</th>\n",
       "      <td>[India</td>\n",
       "      <td>49</td>\n",
       "      <td>86400</td>\n",
       "      <td>No]</td>\n",
       "    </tr>\n",
       "    <tr>\n",
       "      <th>2</th>\n",
       "      <td>[Brazil</td>\n",
       "      <td>32</td>\n",
       "      <td>57600</td>\n",
       "      <td>Yes]</td>\n",
       "    </tr>\n",
       "    <tr>\n",
       "      <th>3</th>\n",
       "      <td>[USA</td>\n",
       "      <td>35</td>\n",
       "      <td>64800</td>\n",
       "      <td>No]</td>\n",
       "    </tr>\n",
       "    <tr>\n",
       "      <th>4</th>\n",
       "      <td>[Brazil</td>\n",
       "      <td>43</td>\n",
       "      <td>73200</td>\n",
       "      <td>No]</td>\n",
       "    </tr>\n",
       "    <tr>\n",
       "      <th>5</th>\n",
       "      <td>[USA</td>\n",
       "      <td>45</td>\n",
       "      <td></td>\n",
       "      <td>Yes]</td>\n",
       "    </tr>\n",
       "    <tr>\n",
       "      <th>6</th>\n",
       "      <td>[India</td>\n",
       "      <td>40</td>\n",
       "      <td>69600</td>\n",
       "      <td>Yes]</td>\n",
       "    </tr>\n",
       "    <tr>\n",
       "      <th>7</th>\n",
       "      <td>[Brazil</td>\n",
       "      <td></td>\n",
       "      <td>62400</td>\n",
       "      <td>No]</td>\n",
       "    </tr>\n",
       "    <tr>\n",
       "      <th>8</th>\n",
       "      <td>[India</td>\n",
       "      <td>53</td>\n",
       "      <td>94800</td>\n",
       "      <td>Yes]</td>\n",
       "    </tr>\n",
       "    <tr>\n",
       "      <th>9</th>\n",
       "      <td>[USA</td>\n",
       "      <td>55</td>\n",
       "      <td>99600</td>\n",
       "      <td>No]</td>\n",
       "    </tr>\n",
       "  </tbody>\n",
       "</table>\n",
       "</div>"
      ],
      "text/plain": [
       "         0     1       2      3\n",
       "0       []  None    None   None\n",
       "1   [India    49   86400    No]\n",
       "2  [Brazil    32   57600   Yes]\n",
       "3     [USA    35   64800    No]\n",
       "4  [Brazil    43   73200    No]\n",
       "5     [USA    45           Yes]\n",
       "6   [India    40   69600   Yes]\n",
       "7  [Brazil         62400    No]\n",
       "8   [India    53   94800   Yes]\n",
       "9     [USA    55   99600    No]"
      ]
     },
     "execution_count": 12,
     "metadata": {},
     "output_type": "execute_result"
    }
   ],
   "source": [
    "df_table = pd.DataFrame(table_list)\n",
    "df_table2 = df_table[0].str.split(',', expand=True)\n",
    "df_table2.head(10)"
   ]
  },
  {
   "cell_type": "code",
   "execution_count": 13,
   "metadata": {
    "colab": {
     "base_uri": "https://localhost:8080/",
     "height": 359
    },
    "id": "CKmXLKcOxers",
    "outputId": "357e921a-51df-4cc0-8230-1783cd49b5e9",
    "scrolled": true
   },
   "outputs": [
    {
     "data": {
      "text/html": [
       "<div>\n",
       "<style scoped>\n",
       "    .dataframe tbody tr th:only-of-type {\n",
       "        vertical-align: middle;\n",
       "    }\n",
       "\n",
       "    .dataframe tbody tr th {\n",
       "        vertical-align: top;\n",
       "    }\n",
       "\n",
       "    .dataframe thead th {\n",
       "        text-align: right;\n",
       "    }\n",
       "</style>\n",
       "<table border=\"1\" class=\"dataframe\">\n",
       "  <thead>\n",
       "    <tr style=\"text-align: right;\">\n",
       "      <th></th>\n",
       "      <th>0</th>\n",
       "      <th>1</th>\n",
       "      <th>2</th>\n",
       "      <th>3</th>\n",
       "    </tr>\n",
       "  </thead>\n",
       "  <tbody>\n",
       "    <tr>\n",
       "      <th>1</th>\n",
       "      <td>India</td>\n",
       "      <td>49</td>\n",
       "      <td>86400</td>\n",
       "      <td>No</td>\n",
       "    </tr>\n",
       "    <tr>\n",
       "      <th>2</th>\n",
       "      <td>Brazil</td>\n",
       "      <td>32</td>\n",
       "      <td>57600</td>\n",
       "      <td>Yes</td>\n",
       "    </tr>\n",
       "    <tr>\n",
       "      <th>3</th>\n",
       "      <td>USA</td>\n",
       "      <td>35</td>\n",
       "      <td>64800</td>\n",
       "      <td>No</td>\n",
       "    </tr>\n",
       "    <tr>\n",
       "      <th>4</th>\n",
       "      <td>Brazil</td>\n",
       "      <td>43</td>\n",
       "      <td>73200</td>\n",
       "      <td>No</td>\n",
       "    </tr>\n",
       "    <tr>\n",
       "      <th>5</th>\n",
       "      <td>USA</td>\n",
       "      <td>45</td>\n",
       "      <td></td>\n",
       "      <td>Yes</td>\n",
       "    </tr>\n",
       "    <tr>\n",
       "      <th>6</th>\n",
       "      <td>India</td>\n",
       "      <td>40</td>\n",
       "      <td>69600</td>\n",
       "      <td>Yes</td>\n",
       "    </tr>\n",
       "    <tr>\n",
       "      <th>7</th>\n",
       "      <td>Brazil</td>\n",
       "      <td></td>\n",
       "      <td>62400</td>\n",
       "      <td>No</td>\n",
       "    </tr>\n",
       "    <tr>\n",
       "      <th>8</th>\n",
       "      <td>India</td>\n",
       "      <td>53</td>\n",
       "      <td>94800</td>\n",
       "      <td>Yes</td>\n",
       "    </tr>\n",
       "    <tr>\n",
       "      <th>9</th>\n",
       "      <td>USA</td>\n",
       "      <td>55</td>\n",
       "      <td>99600</td>\n",
       "      <td>No</td>\n",
       "    </tr>\n",
       "    <tr>\n",
       "      <th>10</th>\n",
       "      <td>India</td>\n",
       "      <td>42</td>\n",
       "      <td>80400</td>\n",
       "      <td>Yes</td>\n",
       "    </tr>\n",
       "  </tbody>\n",
       "</table>\n",
       "</div>"
      ],
      "text/plain": [
       "         0    1       2     3\n",
       "1    India   49   86400    No\n",
       "2   Brazil   32   57600   Yes\n",
       "3      USA   35   64800    No\n",
       "4   Brazil   43   73200    No\n",
       "5      USA   45           Yes\n",
       "6    India   40   69600   Yes\n",
       "7   Brazil        62400    No\n",
       "8    India   53   94800   Yes\n",
       "9      USA   55   99600    No\n",
       "10   India   42   80400   Yes"
      ]
     },
     "execution_count": 13,
     "metadata": {},
     "output_type": "execute_result"
    }
   ],
   "source": [
    "# Remove uneccesary characters\n",
    "df_table2[0] = df_table2[0].str.strip('[')\n",
    "df_table2[0] = df_table2[0].str.strip(']')\n",
    "df_table2[3] = df_table2[3].str.strip(']')\n",
    "\n",
    "# Remove all rows with any missing values\n",
    "df_table3 = df_table2.dropna(axis=0, how='any')\n",
    "\n",
    "df_table3.head(20)"
   ]
  },
  {
   "cell_type": "code",
   "execution_count": 14,
   "metadata": {
    "colab": {
     "base_uri": "https://localhost:8080/",
     "height": 359
    },
    "id": "JcHianmnxhyT",
    "outputId": "6d263e77-47b9-4a57-d02e-493195d5773f"
   },
   "outputs": [
    {
     "data": {
      "text/html": [
       "<div>\n",
       "<style scoped>\n",
       "    .dataframe tbody tr th:only-of-type {\n",
       "        vertical-align: middle;\n",
       "    }\n",
       "\n",
       "    .dataframe tbody tr th {\n",
       "        vertical-align: top;\n",
       "    }\n",
       "\n",
       "    .dataframe thead th {\n",
       "        text-align: right;\n",
       "    }\n",
       "</style>\n",
       "<table border=\"1\" class=\"dataframe\">\n",
       "  <thead>\n",
       "    <tr style=\"text-align: right;\">\n",
       "      <th></th>\n",
       "      <th>Region</th>\n",
       "      <th>Age</th>\n",
       "      <th>Income</th>\n",
       "      <th>Online Shopper</th>\n",
       "    </tr>\n",
       "  </thead>\n",
       "  <tbody>\n",
       "    <tr>\n",
       "      <th>1</th>\n",
       "      <td>India</td>\n",
       "      <td>49</td>\n",
       "      <td>86400</td>\n",
       "      <td>No</td>\n",
       "    </tr>\n",
       "    <tr>\n",
       "      <th>2</th>\n",
       "      <td>Brazil</td>\n",
       "      <td>32</td>\n",
       "      <td>57600</td>\n",
       "      <td>Yes</td>\n",
       "    </tr>\n",
       "    <tr>\n",
       "      <th>3</th>\n",
       "      <td>USA</td>\n",
       "      <td>35</td>\n",
       "      <td>64800</td>\n",
       "      <td>No</td>\n",
       "    </tr>\n",
       "    <tr>\n",
       "      <th>4</th>\n",
       "      <td>Brazil</td>\n",
       "      <td>43</td>\n",
       "      <td>73200</td>\n",
       "      <td>No</td>\n",
       "    </tr>\n",
       "    <tr>\n",
       "      <th>5</th>\n",
       "      <td>USA</td>\n",
       "      <td>45</td>\n",
       "      <td></td>\n",
       "      <td>Yes</td>\n",
       "    </tr>\n",
       "    <tr>\n",
       "      <th>6</th>\n",
       "      <td>India</td>\n",
       "      <td>40</td>\n",
       "      <td>69600</td>\n",
       "      <td>Yes</td>\n",
       "    </tr>\n",
       "    <tr>\n",
       "      <th>7</th>\n",
       "      <td>Brazil</td>\n",
       "      <td></td>\n",
       "      <td>62400</td>\n",
       "      <td>No</td>\n",
       "    </tr>\n",
       "    <tr>\n",
       "      <th>8</th>\n",
       "      <td>India</td>\n",
       "      <td>53</td>\n",
       "      <td>94800</td>\n",
       "      <td>Yes</td>\n",
       "    </tr>\n",
       "    <tr>\n",
       "      <th>9</th>\n",
       "      <td>USA</td>\n",
       "      <td>55</td>\n",
       "      <td>99600</td>\n",
       "      <td>No</td>\n",
       "    </tr>\n",
       "    <tr>\n",
       "      <th>10</th>\n",
       "      <td>India</td>\n",
       "      <td>42</td>\n",
       "      <td>80400</td>\n",
       "      <td>Yes</td>\n",
       "    </tr>\n",
       "  </tbody>\n",
       "</table>\n",
       "</div>"
      ],
      "text/plain": [
       "    Region  Age  Income  Online Shopper\n",
       "1    India   49   86400              No\n",
       "2   Brazil   32   57600             Yes\n",
       "3      USA   35   64800              No\n",
       "4   Brazil   43   73200              No\n",
       "5      USA   45                     Yes\n",
       "6    India   40   69600             Yes\n",
       "7   Brazil        62400              No\n",
       "8    India   53   94800             Yes\n",
       "9      USA   55   99600              No\n",
       "10   India   42   80400             Yes"
      ]
     },
     "execution_count": 14,
     "metadata": {},
     "output_type": "execute_result"
    }
   ],
   "source": [
    "#  Remove uneccessary characters from the header\n",
    "df_header2[0] = df_header2[0].str.strip('[')\n",
    "df_header2[3] = df_header2[3].str.strip(']')\n",
    "\n",
    "# Concatenate the two dataframes\n",
    "frames = [df_header2, df_table3]\n",
    "df = pd.concat(frames)\n",
    "\n",
    "df2 = df.rename(columns=df.iloc[0]) #Assign the first row to be the dataframe header\n",
    "df3 = df2.drop(df2.index[0]) #Drop the replicated header from the first row of the dataframe\n",
    "\n",
    "df3.head(10)"
   ]
  }
 ],
 "metadata": {
  "colab": {
   "provenance": []
  },
  "kernelspec": {
   "display_name": "Python 3 (ipykernel)",
   "language": "python",
   "name": "python3"
  },
  "language_info": {
   "codemirror_mode": {
    "name": "ipython",
    "version": 3
   },
   "file_extension": ".py",
   "mimetype": "text/x-python",
   "name": "python",
   "nbconvert_exporter": "python",
   "pygments_lexer": "ipython3",
   "version": "3.9.15"
  }
 },
 "nbformat": 4,
 "nbformat_minor": 1
}
