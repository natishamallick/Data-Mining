{
 "cells": [
  {
   "cell_type": "markdown",
   "id": "640e4bae",
   "metadata": {},
   "source": [
    "#### Assignment No.  3 - Part 1 "
   ]
  },
  {
   "cell_type": "markdown",
   "id": "476eca4e",
   "metadata": {},
   "source": [
    "#### Solution 7. Kulczynski measure"
   ]
  },
  {
   "cell_type": "code",
   "execution_count": 12,
   "id": "5e1bcbae",
   "metadata": {},
   "outputs": [],
   "source": [
    "dataset = [['Milk', 'Onion', 'Nutmeg', 'Kidney Beans', 'Eggs', 'Yogurt'],\n",
    "           ['Dill', 'Onion', 'Nutmeg', 'Kidney Beans', 'Eggs', 'Yogurt'],\n",
    "           ['Milk', 'Apple', 'Kidney Beans', 'Eggs'],\n",
    "           ['Milk', 'Unicorn', 'Corn', 'Kidney Beans', 'Yogurt'],\n",
    "           ['Corn', 'Onion', 'Onion', 'Kidney Beans', 'Ice cream', 'Eggs']]"
   ]
  },
  {
   "cell_type": "code",
   "execution_count": 13,
   "id": "41843848",
   "metadata": {},
   "outputs": [],
   "source": [
    "def support(args):\n",
    "  count=0\n",
    "  for row in dataset:\n",
    "    if all(itemsToFind in row for itemsToFind in args):\n",
    "      count+=1\n",
    "  return count"
   ]
  },
  {
   "cell_type": "code",
   "execution_count": 14,
   "id": "58075e08",
   "metadata": {},
   "outputs": [
    {
     "name": "stdout",
     "output_type": "stream",
     "text": [
      "0.875\n"
     ]
    }
   ],
   "source": [
    "A=['Onion']\n",
    "B=['Kidney Beans','Eggs']\n",
    "\n",
    "def Kulczynski(setA, setB):\n",
    "  mean=1/2*((support(setA+setB)/support(setA)) +support(setA+setB)/support(setB))\n",
    "  return mean\n",
    "\n",
    "print(Kulczynski(A,B))"
   ]
  },
  {
   "cell_type": "markdown",
   "id": "eb1a8a05",
   "metadata": {},
   "source": [
    "#### Solution 8. Imbalance Ratio "
   ]
  },
  {
   "cell_type": "code",
   "execution_count": 15,
   "id": "38687df3",
   "metadata": {},
   "outputs": [
    {
     "name": "stdout",
     "output_type": "stream",
     "text": [
      "0.25\n"
     ]
    }
   ],
   "source": [
    "def imbalance_ratio(setA,setB):\n",
    "  IR=abs((support(setA)-support(setB)))/(support(setA)+support(setB)-support(setA+setB))\n",
    "  return IR\n",
    "\n",
    "print(imbalance_ratio(A,B))"
   ]
  }
 ],
 "metadata": {
  "kernelspec": {
   "display_name": "Python 3 (ipykernel)",
   "language": "python",
   "name": "python3"
  },
  "language_info": {
   "codemirror_mode": {
    "name": "ipython",
    "version": 3
   },
   "file_extension": ".py",
   "mimetype": "text/x-python",
   "name": "python",
   "nbconvert_exporter": "python",
   "pygments_lexer": "ipython3",
   "version": "3.9.15"
  }
 },
 "nbformat": 4,
 "nbformat_minor": 5
}
